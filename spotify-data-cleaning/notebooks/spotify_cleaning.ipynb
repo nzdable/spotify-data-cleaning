{
  "cells": [
    {
      "cell_type": "code",
      "execution_count": null,
      "id": "8d6a3bac",
      "metadata": {
        "vscode": {
          "languageId": "plaintext"
        },
        "id": "8d6a3bac"
      },
      "outputs": [],
      "source": [
        "import kagglehub\n",
        "path = kagglehub.dataset_download(\"maharshipandya/-spotify-tracks-dataset\")"
      ]
    },
    {
      "cell_type": "code",
      "source": [],
      "metadata": {
        "id": "RfaVcPIKUPQT"
      },
      "id": "RfaVcPIKUPQT",
      "execution_count": null,
      "outputs": []
    }
  ],
  "metadata": {
    "language_info": {
      "name": "python"
    },
    "colab": {
      "provenance": []
    }
  },
  "nbformat": 4,
  "nbformat_minor": 5
}